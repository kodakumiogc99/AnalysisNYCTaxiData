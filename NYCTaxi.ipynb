{
 "cells": [
  {
   "cell_type": "code",
   "execution_count": 1,
   "id": "0ecd3606",
   "metadata": {},
   "outputs": [
    {
     "data": {
      "text/html": [
       "<style type='text/css'>\n",
       ".datatable table.frame { margin-bottom: 0; }\n",
       ".datatable table.frame thead { border-bottom: none; }\n",
       ".datatable table.frame tr.coltypes td {  color: #FFFFFF;  line-height: 6px;  padding: 0 0.5em;}\n",
       ".datatable .bool    { background: #DDDD99; }\n",
       ".datatable .object  { background: #565656; }\n",
       ".datatable .int     { background: #5D9E5D; }\n",
       ".datatable .float   { background: #4040CC; }\n",
       ".datatable .str     { background: #CC4040; }\n",
       ".datatable .time    { background: #40CC40; }\n",
       ".datatable .row_index {  background: var(--jp-border-color3);  border-right: 1px solid var(--jp-border-color0);  color: var(--jp-ui-font-color3);  font-size: 9px;}\n",
       ".datatable .frame tbody td { text-align: left; }\n",
       ".datatable .frame tr.coltypes .row_index {  background: var(--jp-border-color0);}\n",
       ".datatable th:nth-child(2) { padding-left: 12px; }\n",
       ".datatable .hellipsis {  color: var(--jp-cell-editor-border-color);}\n",
       ".datatable .vellipsis {  background: var(--jp-layout-color0);  color: var(--jp-cell-editor-border-color);}\n",
       ".datatable .na {  color: var(--jp-cell-editor-border-color);  font-size: 80%;}\n",
       ".datatable .sp {  opacity: 0.25;}\n",
       ".datatable .footer { font-size: 9px; }\n",
       ".datatable .frame_dimensions {  background: var(--jp-border-color3);  border-top: 1px solid var(--jp-border-color0);  color: var(--jp-ui-font-color3);  display: inline-block;  opacity: 0.6;  padding: 1px 10px 1px 5px;}\n",
       "</style>\n"
      ],
      "text/plain": [
       "<IPython.core.display.HTML object>"
      ]
     },
     "metadata": {},
     "output_type": "display_data"
    },
    {
     "name": "stderr",
     "output_type": "stream",
     "text": [
      "/opt/conda/lib/python3.8/site-packages/geopandas/_compat.py:111: UserWarning: The Shapely GEOS version (3.10.2-CAPI-1.16.0) is incompatible with the GEOS version PyGEOS was compiled with (3.10.1-CAPI-1.16.0). Conversions between both will be slow.\n",
      "  warnings.warn(\n"
     ]
    }
   ],
   "source": [
    "from datatable import dt, f, by, as_type\n",
    "from datetime import datetime as d\n",
    "from shapely.geometry import Point, shape, Polygon\n",
    "import os, shutil, glob\n",
    "import argparse\n",
    "import dask.dataframe as dd\n",
    "import pandas as pd\n",
    "import matplotlib.pyplot as plt\n",
    "import geopandas\n",
    "import warnings\n",
    "warnings.filterwarnings('ignore')\n"
   ]
  },
  {
   "cell_type": "code",
   "execution_count": 2,
   "id": "39b0747f",
   "metadata": {},
   "outputs": [],
   "source": [
    "fold = '/BigData/BigData/HW1/*'\n",
    "file = glob.glob(f'{fold}')"
   ]
  },
  {
   "cell_type": "code",
   "execution_count": 3,
   "id": "68c77cf8",
   "metadata": {},
   "outputs": [],
   "source": [
    "frame = dt.Frame()\n",
    "[frame.rbind(dt.fread(f, fill=True), force=True, bynames=True) for f in file]\n",
    "columns = frame.names"
   ]
  },
  {
   "cell_type": "code",
   "execution_count": 4,
   "id": "4e1fce0e",
   "metadata": {},
   "outputs": [],
   "source": [
    "'''\n",
    "Delete all NA row column and row\n",
    "'''\n",
    "del frame[:, 'store_and_forward']\n",
    "del frame[:, 'Rate_Code']\n",
    "del frame[:, 'mta_tax']\n",
    "del frame[dt.rowall(f[:]==None),:]"
   ]
  },
  {
   "cell_type": "code",
   "execution_count": 5,
   "id": "08feccd5",
   "metadata": {},
   "outputs": [
    {
     "data": {
      "text/html": [
       "<div class='datatable'>\n",
       "  <table class='frame'>\n",
       "  <thead>\n",
       "    <tr class='colnames'><td class='row_index'></td><th>vendor_name</th><th>Trip_Pickup_DateTime</th><th>Trip_Dropoff_DateTime</th><th>Passenger_Count</th><th>Trip_Distance</th><th>Start_Lon</th><th>Start_Lat</th><th>End_Lon</th><th>End_Lat</th><th>Payment_Type</th><th>Fare_Amt</th><th>surcharge</th><th>Tip_Amt</th><th>Tolls_Amt</th><th>Total_Amt</th></tr>\n",
       "    <tr class='coltypes'><td class='row_index'></td><td class='str' title='str32'>&#x25AA;&#x25AA;&#x25AA;&#x25AA;</td><td class='int' title='int32'>&#x25AA;&#x25AA;&#x25AA;&#x25AA;</td><td class='int' title='int32'>&#x25AA;&#x25AA;&#x25AA;&#x25AA;</td><td class='int' title='int32'>&#x25AA;&#x25AA;&#x25AA;&#x25AA;</td><td class='float' title='float64'>&#x25AA;&#x25AA;&#x25AA;&#x25AA;&#x25AA;&#x25AA;&#x25AA;&#x25AA;</td><td class='float' title='float64'>&#x25AA;&#x25AA;&#x25AA;&#x25AA;&#x25AA;&#x25AA;&#x25AA;&#x25AA;</td><td class='float' title='float64'>&#x25AA;&#x25AA;&#x25AA;&#x25AA;&#x25AA;&#x25AA;&#x25AA;&#x25AA;</td><td class='float' title='float64'>&#x25AA;&#x25AA;&#x25AA;&#x25AA;&#x25AA;&#x25AA;&#x25AA;&#x25AA;</td><td class='float' title='float64'>&#x25AA;&#x25AA;&#x25AA;&#x25AA;&#x25AA;&#x25AA;&#x25AA;&#x25AA;</td><td class='str' title='str32'>&#x25AA;&#x25AA;&#x25AA;&#x25AA;</td><td class='float' title='float64'>&#x25AA;&#x25AA;&#x25AA;&#x25AA;&#x25AA;&#x25AA;&#x25AA;&#x25AA;</td><td class='float' title='float64'>&#x25AA;&#x25AA;&#x25AA;&#x25AA;&#x25AA;&#x25AA;&#x25AA;&#x25AA;</td><td class='float' title='float64'>&#x25AA;&#x25AA;&#x25AA;&#x25AA;&#x25AA;&#x25AA;&#x25AA;&#x25AA;</td><td class='float' title='float64'>&#x25AA;&#x25AA;&#x25AA;&#x25AA;&#x25AA;&#x25AA;&#x25AA;&#x25AA;</td><td class='float' title='float64'>&#x25AA;&#x25AA;&#x25AA;&#x25AA;&#x25AA;&#x25AA;&#x25AA;&#x25AA;</td></tr>\n",
       "  </thead>\n",
       "  <tbody>\n",
       "    <tr><td class='row_index'>0</td><td>CMT</td><td>15</td><td>15</td><td>1</td><td>0.3</td><td>&minus;73.9707</td><td>40.7964</td><td>&minus;73.9736</td><td>40.7921</td><td>Cash</td><td>4.1</td><td>0</td><td>0</td><td>0</td><td>4.1</td></tr>\n",
       "    <tr><td class='row_index'>1</td><td>CMT</td><td>0</td><td>0</td><td>1</td><td>1.6</td><td>&minus;74.0073</td><td>40.74</td><td>&minus;74.0047</td><td>40.7519</td><td>Cash</td><td>7</td><td>0</td><td>0</td><td>0</td><td>7</td></tr>\n",
       "    <tr><td class='row_index'>2</td><td>DDS</td><td>19</td><td>20</td><td>1</td><td>2</td><td>&minus;73.9764</td><td>40.7567</td><td>&minus;73.9544</td><td>40.7672</td><td>CASH</td><td>8.1</td><td>0.5</td><td>0</td><td>0</td><td>8.6</td></tr>\n",
       "    <tr><td class='row_index'>3</td><td>CMT</td><td>22</td><td>22</td><td>3</td><td>1.6</td><td>&minus;73.9906</td><td>40.7515</td><td>&minus;74.0084</td><td>40.7466</td><td>Cash</td><td>7</td><td>0</td><td>0</td><td>0</td><td>7</td></tr>\n",
       "    <tr><td class='row_index'>4</td><td>CMT</td><td>22</td><td>23</td><td>2</td><td>3.8</td><td>&minus;73.9938</td><td>40.7342</td><td>&minus;73.9588</td><td>40.7699</td><td>Cash</td><td>12.6</td><td>0</td><td>0</td><td>0</td><td>12.6</td></tr>\n",
       "    <tr><td class='row_index'>5</td><td>CMT</td><td>1</td><td>1</td><td>1</td><td>0.7</td><td>&minus;73.9674</td><td>40.7809</td><td>&minus;73.9681</td><td>40.7719</td><td>Cash</td><td>5.4</td><td>0</td><td>0</td><td>0</td><td>5.4</td></tr>\n",
       "    <tr><td class='row_index'>6</td><td>CMT</td><td>22</td><td>22</td><td>1</td><td>0</td><td>&minus;73.9616</td><td>40.7565</td><td>&minus;73.9616</td><td>40.7566</td><td>No Charge</td><td>3</td><td>0</td><td>0</td><td>0</td><td>3</td></tr>\n",
       "    <tr><td class='row_index'>7</td><td>CMT</td><td>7</td><td>7</td><td>1</td><td>0.9</td><td>&minus;73.9338</td><td>40.854</td><td>&minus;73.9396</td><td>40.8414</td><td>Cash</td><td>4.5</td><td>0</td><td>0</td><td>0</td><td>4.5</td></tr>\n",
       "    <tr><td class='row_index'>8</td><td>CMT</td><td>13</td><td>13</td><td>1</td><td>1.1</td><td>&minus;73.9645</td><td>40.7704</td><td>&minus;73.9819</td><td>40.7737</td><td>Cash</td><td>5.7</td><td>0</td><td>0</td><td>0</td><td>5.7</td></tr>\n",
       "    <tr><td class='row_index'>9</td><td>CMT</td><td>21</td><td>21</td><td>1</td><td>2.5</td><td>&minus;73.9673</td><td>40.7635</td><td>&minus;73.9846</td><td>40.7326</td><td>Cash</td><td>8.6</td><td>0</td><td>0</td><td>0</td><td>8.6</td></tr>\n",
       "    <tr><td class='row_index'>10</td><td>CMT</td><td>7</td><td>7</td><td>1</td><td>1</td><td>&minus;73.991</td><td>40.7567</td><td>&minus;73.9761</td><td>40.7552</td><td>Credit</td><td>5.7</td><td>0</td><td>1.3</td><td>0</td><td>7</td></tr>\n",
       "    <tr><td class='row_index'>11</td><td>CMT</td><td>10</td><td>11</td><td>2</td><td>2.5</td><td>&minus;73.9845</td><td>40.7456</td><td>&minus;73.9629</td><td>40.7768</td><td>Cash</td><td>10.5</td><td>0</td><td>0</td><td>0</td><td>10.5</td></tr>\n",
       "    <tr><td class='row_index'>12</td><td>CMT</td><td>20</td><td>20</td><td>1</td><td>1.2</td><td>&minus;73.9857</td><td>40.7471</td><td>&minus;73.9922</td><td>40.7305</td><td>Cash</td><td>6.6</td><td>0</td><td>0</td><td>0</td><td>6.6</td></tr>\n",
       "    <tr><td class='row_index'>13</td><td>CMT</td><td>1</td><td>2</td><td>1</td><td>6.1</td><td>&minus;73.9909</td><td>40.7509</td><td>&minus;73.9527</td><td>40.695</td><td>Cash</td><td>17.4</td><td>0</td><td>0</td><td>0</td><td>17.4</td></tr>\n",
       "    <tr><td class='row_index'>14</td><td>CMT</td><td>13</td><td>13</td><td>1</td><td>0.9</td><td>&minus;73.9776</td><td>40.7548</td><td>&minus;73.9877</td><td>40.7588</td><td>Credit</td><td>5.7</td><td>0</td><td>1.14</td><td>0</td><td>6.84</td></tr>\n",
       "    <tr><td class='row_index'>&#x22EE;</td><td class='hellipsis'>&#x22EE;</td><td class='hellipsis'>&#x22EE;</td><td class='hellipsis'>&#x22EE;</td><td class='hellipsis'>&#x22EE;</td><td class='hellipsis'>&#x22EE;</td><td class='hellipsis'>&#x22EE;</td><td class='hellipsis'>&#x22EE;</td><td class='hellipsis'>&#x22EE;</td><td class='hellipsis'>&#x22EE;</td><td class='hellipsis'>&#x22EE;</td><td class='hellipsis'>&#x22EE;</td><td class='hellipsis'>&#x22EE;</td><td class='hellipsis'>&#x22EE;</td><td class='hellipsis'>&#x22EE;</td><td class='hellipsis'>&#x22EE;</td></tr>\n",
       "    <tr><td class='row_index'>41,859,901</td><td>VTS</td><td>14</td><td>14</td><td>5</td><td>0.89</td><td>&minus;73.982</td><td>40.7433</td><td>&minus;73.9943</td><td>40.7501</td><td>CASH</td><td>6.5</td><td>0</td><td>0</td><td>0</td><td>6.5</td></tr>\n",
       "    <tr><td class='row_index'>41,859,902</td><td>VTS</td><td>13</td><td>14</td><td>1</td><td>1.94</td><td>&minus;73.9728</td><td>40.762</td><td>&minus;73.9515</td><td>40.7782</td><td>Credit</td><td>8.1</td><td>0</td><td>1.9</td><td>0</td><td>10</td></tr>\n",
       "    <tr><td class='row_index'>41,859,903</td><td>CMT</td><td>8</td><td>9</td><td>1</td><td>3.8</td><td>&minus;73.9775</td><td>40.7519</td><td>&minus;74.0099</td><td>40.7135</td><td>Cash</td><td>14.5</td><td>0</td><td>0</td><td>0</td><td>14.5</td></tr>\n",
       "    <tr><td class='row_index'>41,859,904</td><td>VTS</td><td>23</td><td>23</td><td>3</td><td>3.85</td><td>&minus;73.9813</td><td>40.753</td><td>&minus;73.9495</td><td>40.7795</td><td>CASH</td><td>10.9</td><td>0.5</td><td>0</td><td>0</td><td>11.4</td></tr>\n",
       "    <tr><td class='row_index'>41,859,905</td><td>CMT</td><td>14</td><td>15</td><td>1</td><td>17.3</td><td>0</td><td>0</td><td>0</td><td>0</td><td>Credit</td><td>45</td><td>0</td><td>5</td><td>0</td><td>50</td></tr>\n",
       "  </tbody>\n",
       "  </table>\n",
       "  <div class='footer'>\n",
       "    <div class='frame_dimensions'>41,859,906 rows &times; 15 columns</div>\n",
       "  </div>\n",
       "</div>\n"
      ],
      "text/plain": [
       "<Frame#7fe1804abb40 41859906x15>"
      ]
     },
     "execution_count": 5,
     "metadata": {},
     "output_type": "execute_result"
    }
   ],
   "source": [
    "#convert DateTime to Hour (0~23)\n",
    "frame[:,dt.update(Trip_Pickup_DateTime = dt.time.hour(f.Trip_Pickup_DateTime), \\\n",
    "                    Trip_Dropoff_DateTime = dt.time.hour(f.Trip_Dropoff_DateTime))]\n",
    "frame"
   ]
  },
  {
   "cell_type": "code",
   "execution_count": 6,
   "id": "add7d6d1",
   "metadata": {},
   "outputs": [],
   "source": [
    "# A function map Lon and Lat to Region\n",
    "from pyproj import CRS\n",
    "crs = CRS('epsg:4326')\n",
    "def cor2loc(df, lon_var, lat_var, name_var):\n",
    "    local_df = df.copy()\n",
    "    shape_df = geopandas.read_file('taxi_zones/taxi_zones.shp')\n",
    "    shape_df.drop(['OBJECTID', 'Shape_Area', 'Shape_Leng'], axis=1, inplace=True)\n",
    "    shape_df = shape_df.to_crs(crs)\n",
    "    \n",
    "    try:\n",
    "        local_gdf = geopandas.GeoDataFrame(local_df, crs=crs,\n",
    "                                          geometry=[Point(xy) for xy in zip(local_df[lon_var], local_df[lat_var])])\n",
    "        local_gdf = geopandas.sjoin(local_gdf, shape_df, how='left', op='within')\n",
    "        local_gdf = local_gdf.drop('geometry', axis=1)\n",
    "        local_gdf = local_gdf.drop('index_right', axis=1)\n",
    "        local_gdf.rename(columns={'zone':f'{name_var}_Zone', 'LocationID':f'{name_var}_ID', 'borough':f'{name_var}_borough'}, inplace=True)\n",
    "        return local_gdf\n",
    "    except ValueError as ve:\n",
    "        print(ve)\n",
    "        print(ve.stacktrace())\n",
    "        series = df[lon_var]\n",
    "        return series"
   ]
  },
  {
   "cell_type": "code",
   "execution_count": 7,
   "id": "5ecaa60f",
   "metadata": {},
   "outputs": [],
   "source": [
    "# Partition dataframe to multiple chunk\n",
    "num_of_pool = 32\n",
    "frame = frame.to_pandas()\n",
    "n = frame.shape[0] // num_of_pool\n",
    "list_frame = [frame[i:i+n] for i in range(0, frame.shape[0],n)]"
   ]
  },
  {
   "cell_type": "code",
   "execution_count": 8,
   "id": "7c983f94",
   "metadata": {},
   "outputs": [],
   "source": [
    "# Multiprocess mapping due to big data\n",
    "from multiprocessing import Pool\n",
    "from itertools import repeat\n",
    "def multiple_mapping(num_of_pool, list_df,lon_var, lat_var, name_var):\n",
    "    with Pool(num_of_pool) as pool:\n",
    "        second_arg = lon_var\n",
    "        third_arg = lat_var\n",
    "        forth_arg = name_var\n",
    "        new_list = pool.starmap(cor2loc, zip(list_df, repeat(second_arg), repeat(third_arg), repeat(forth_arg)))\n",
    "    return new_list"
   ]
  },
  {
   "cell_type": "code",
   "execution_count": 9,
   "id": "781edcdb",
   "metadata": {},
   "outputs": [],
   "source": [
    "list_frame = multiple_mapping(num_of_pool, list_frame, 'Start_Lon', 'Start_Lat', 'pick_up')\n",
    "list_frame = multiple_mapping(num_of_pool, list_frame, 'End_Lon', 'End_Lat', 'drop_off')"
   ]
  },
  {
   "cell_type": "code",
   "execution_count": 10,
   "id": "b14819c5",
   "metadata": {},
   "outputs": [],
   "source": [
    "# Save mapping result.\n",
    "new_frame = pd.concat(list_frame)\n",
    "new_frame.to_csv('Finish_mapping.csv')"
   ]
  },
  {
   "cell_type": "code",
   "execution_count": 11,
   "id": "096d9e9c",
   "metadata": {},
   "outputs": [],
   "source": [
    "frame = dt.fread('Finish_mapping.csv')"
   ]
  },
  {
   "cell_type": "code",
   "execution_count": 12,
   "id": "196db32c",
   "metadata": {},
   "outputs": [
    {
     "data": {
      "text/html": [
       "<div class='datatable'>\n",
       "  <table class='frame'>\n",
       "  <thead>\n",
       "    <tr class='colnames'><td class='row_index'></td><th>C0</th><th>vendor_name</th><th>Trip_Pickup_DateTime</th><th>Trip_Dropoff_DateTime</th><th>Passenger_Count</th><th>Trip_Distance</th><th>Start_Lon</th><th>Start_Lat</th><th>End_Lon</th><th>End_Lat</th><th class='vellipsis'>&hellip;</th><th>pick_up_ID</th><th>pick_up_borough</th><th>drop_off_Zone</th><th>drop_off_ID</th><th>drop_off_borough</th></tr>\n",
       "    <tr class='coltypes'><td class='row_index'></td><td class='int' title='int32'>&#x25AA;&#x25AA;&#x25AA;&#x25AA;</td><td class='str' title='str32'>&#x25AA;&#x25AA;&#x25AA;&#x25AA;</td><td class='int' title='int32'>&#x25AA;&#x25AA;&#x25AA;&#x25AA;</td><td class='int' title='int32'>&#x25AA;&#x25AA;&#x25AA;&#x25AA;</td><td class='int' title='int32'>&#x25AA;&#x25AA;&#x25AA;&#x25AA;</td><td class='float' title='float64'>&#x25AA;&#x25AA;&#x25AA;&#x25AA;&#x25AA;&#x25AA;&#x25AA;&#x25AA;</td><td class='float' title='float64'>&#x25AA;&#x25AA;&#x25AA;&#x25AA;&#x25AA;&#x25AA;&#x25AA;&#x25AA;</td><td class='float' title='float64'>&#x25AA;&#x25AA;&#x25AA;&#x25AA;&#x25AA;&#x25AA;&#x25AA;&#x25AA;</td><td class='float' title='float64'>&#x25AA;&#x25AA;&#x25AA;&#x25AA;&#x25AA;&#x25AA;&#x25AA;&#x25AA;</td><td class='float' title='float64'>&#x25AA;&#x25AA;&#x25AA;&#x25AA;&#x25AA;&#x25AA;&#x25AA;&#x25AA;</td><td></td><td class='float' title='float64'>&#x25AA;&#x25AA;&#x25AA;&#x25AA;&#x25AA;&#x25AA;&#x25AA;&#x25AA;</td><td class='str' title='str32'>&#x25AA;&#x25AA;&#x25AA;&#x25AA;</td><td class='str' title='str32'>&#x25AA;&#x25AA;&#x25AA;&#x25AA;</td><td class='float' title='float64'>&#x25AA;&#x25AA;&#x25AA;&#x25AA;&#x25AA;&#x25AA;&#x25AA;&#x25AA;</td><td class='str' title='str32'>&#x25AA;&#x25AA;&#x25AA;&#x25AA;</td></tr>\n",
       "  </thead>\n",
       "  <tbody>\n",
       "    <tr><td class='row_index'>0</td><td>0</td><td>CMT</td><td>15</td><td>15</td><td>1</td><td>0.3</td><td>&minus;73.9707</td><td>40.7964</td><td>&minus;73.9736</td><td>40.7921</td><td class=vellipsis>&hellip;</td><td>151</td><td>Manhattan</td><td>Upper West Side North</td><td>238</td><td>Manhattan</td></tr>\n",
       "    <tr><td class='row_index'>1</td><td>1</td><td>CMT</td><td>0</td><td>0</td><td>1</td><td>1.6</td><td>&minus;74.0073</td><td>40.74</td><td>&minus;74.0047</td><td>40.7519</td><td class=vellipsis>&hellip;</td><td>158</td><td>Manhattan</td><td>West Chelsea/Hudson Yards</td><td>246</td><td>Manhattan</td></tr>\n",
       "    <tr><td class='row_index'>2</td><td>2</td><td>DDS</td><td>19</td><td>20</td><td>1</td><td>2</td><td>&minus;73.9764</td><td>40.7567</td><td>&minus;73.9544</td><td>40.7672</td><td class=vellipsis>&hellip;</td><td>161</td><td>Manhattan</td><td>Lenox Hill East</td><td>140</td><td>Manhattan</td></tr>\n",
       "    <tr><td class='row_index'>3</td><td>3</td><td>CMT</td><td>22</td><td>22</td><td>3</td><td>1.6</td><td>&minus;73.9906</td><td>40.7515</td><td>&minus;74.0084</td><td>40.7466</td><td class=vellipsis>&hellip;</td><td>100</td><td>Manhattan</td><td>West Chelsea/Hudson Yards</td><td>246</td><td>Manhattan</td></tr>\n",
       "    <tr><td class='row_index'>4</td><td>4</td><td>CMT</td><td>22</td><td>23</td><td>2</td><td>3.8</td><td>&minus;73.9938</td><td>40.7342</td><td>&minus;73.9588</td><td>40.7699</td><td class=vellipsis>&hellip;</td><td>113</td><td>Manhattan</td><td>Lenox Hill West</td><td>141</td><td>Manhattan</td></tr>\n",
       "    <tr><td class='row_index'>5</td><td>5</td><td>CMT</td><td>1</td><td>1</td><td>1</td><td>0.7</td><td>&minus;73.9674</td><td>40.7809</td><td>&minus;73.9681</td><td>40.7719</td><td class=vellipsis>&hellip;</td><td>43</td><td>Manhattan</td><td>Central Park</td><td>43</td><td>Manhattan</td></tr>\n",
       "    <tr><td class='row_index'>6</td><td>6</td><td>CMT</td><td>22</td><td>22</td><td>1</td><td>0</td><td>&minus;73.9616</td><td>40.7565</td><td>&minus;73.9616</td><td>40.7566</td><td class=vellipsis>&hellip;</td><td>229</td><td>Manhattan</td><td>Sutton Place/Turtle Bay North</td><td>229</td><td>Manhattan</td></tr>\n",
       "    <tr><td class='row_index'>7</td><td>7</td><td>CMT</td><td>7</td><td>7</td><td>1</td><td>0.9</td><td>&minus;73.9338</td><td>40.854</td><td>&minus;73.9396</td><td>40.8414</td><td class=vellipsis>&hellip;</td><td>243</td><td>Manhattan</td><td>Washington Heights South</td><td>244</td><td>Manhattan</td></tr>\n",
       "    <tr><td class='row_index'>8</td><td>8</td><td>CMT</td><td>13</td><td>13</td><td>1</td><td>1.1</td><td>&minus;73.9645</td><td>40.7704</td><td>&minus;73.9819</td><td>40.7737</td><td class=vellipsis>&hellip;</td><td>237</td><td>Manhattan</td><td>Lincoln Square East</td><td>142</td><td>Manhattan</td></tr>\n",
       "    <tr><td class='row_index'>9</td><td>9</td><td>CMT</td><td>21</td><td>21</td><td>1</td><td>2.5</td><td>&minus;73.9673</td><td>40.7635</td><td>&minus;73.9846</td><td>40.7326</td><td class=vellipsis>&hellip;</td><td>237</td><td>Manhattan</td><td>Gramercy</td><td>107</td><td>Manhattan</td></tr>\n",
       "    <tr><td class='row_index'>10</td><td>10</td><td>CMT</td><td>7</td><td>7</td><td>1</td><td>1</td><td>&minus;73.991</td><td>40.7567</td><td>&minus;73.9761</td><td>40.7552</td><td class=vellipsis>&hellip;</td><td>48</td><td>Manhattan</td><td>Midtown Center</td><td>161</td><td>Manhattan</td></tr>\n",
       "    <tr><td class='row_index'>11</td><td>11</td><td>CMT</td><td>10</td><td>11</td><td>2</td><td>2.5</td><td>&minus;73.9845</td><td>40.7456</td><td>&minus;73.9629</td><td>40.7768</td><td class=vellipsis>&hellip;</td><td>164</td><td>Manhattan</td><td>Upper East Side North</td><td>236</td><td>Manhattan</td></tr>\n",
       "    <tr><td class='row_index'>12</td><td>12</td><td>CMT</td><td>20</td><td>20</td><td>1</td><td>1.2</td><td>&minus;73.9857</td><td>40.7471</td><td>&minus;73.9922</td><td>40.7305</td><td class=vellipsis>&hellip;</td><td>164</td><td>Manhattan</td><td>Greenwich Village North</td><td>113</td><td>Manhattan</td></tr>\n",
       "    <tr><td class='row_index'>13</td><td>13</td><td>CMT</td><td>1</td><td>2</td><td>1</td><td>6.1</td><td>&minus;73.9909</td><td>40.7509</td><td>&minus;73.9527</td><td>40.695</td><td class=vellipsis>&hellip;</td><td>186</td><td>Manhattan</td><td>Bedford</td><td>17</td><td>Brooklyn</td></tr>\n",
       "    <tr><td class='row_index'>14</td><td>14</td><td>CMT</td><td>13</td><td>13</td><td>1</td><td>0.9</td><td>&minus;73.9776</td><td>40.7548</td><td>&minus;73.9877</td><td>40.7588</td><td class=vellipsis>&hellip;</td><td>161</td><td>Manhattan</td><td>Times Sq/Theatre District</td><td>230</td><td>Manhattan</td></tr>\n",
       "    <tr><td class='row_index'>&#x22EE;</td><td class='hellipsis'>&#x22EE;</td><td class='hellipsis'>&#x22EE;</td><td class='hellipsis'>&#x22EE;</td><td class='hellipsis'>&#x22EE;</td><td class='hellipsis'>&#x22EE;</td><td class='hellipsis'>&#x22EE;</td><td class='hellipsis'>&#x22EE;</td><td class='hellipsis'>&#x22EE;</td><td class='hellipsis'>&#x22EE;</td><td class='hellipsis'>&#x22EE;</td><td class='hellipsis'>&#x22F1;</td><td class='hellipsis'>&#x22EE;</td><td class='hellipsis'>&#x22EE;</td><td class='hellipsis'>&#x22EE;</td><td class='hellipsis'>&#x22EE;</td><td class='hellipsis'>&#x22EE;</td></tr>\n",
       "    <tr><td class='row_index'>41,859,903</td><td>41859901</td><td>VTS</td><td>14</td><td>14</td><td>5</td><td>0.89</td><td>&minus;73.982</td><td>40.7433</td><td>&minus;73.9943</td><td>40.7501</td><td class=vellipsis>&hellip;</td><td>170</td><td>Manhattan</td><td>Penn Station/Madison Sq West</td><td>186</td><td>Manhattan</td></tr>\n",
       "    <tr><td class='row_index'>41,859,904</td><td>41859902</td><td>VTS</td><td>13</td><td>14</td><td>1</td><td>1.94</td><td>&minus;73.9728</td><td>40.762</td><td>&minus;73.9515</td><td>40.7782</td><td class=vellipsis>&hellip;</td><td>163</td><td>Manhattan</td><td>Yorkville West</td><td>263</td><td>Manhattan</td></tr>\n",
       "    <tr><td class='row_index'>41,859,905</td><td>41859903</td><td>CMT</td><td>8</td><td>9</td><td>1</td><td>3.8</td><td>&minus;73.9775</td><td>40.7519</td><td>&minus;74.0099</td><td>40.7135</td><td class=vellipsis>&hellip;</td><td>170</td><td>Manhattan</td><td>TriBeCa/Civic Center</td><td>231</td><td>Manhattan</td></tr>\n",
       "    <tr><td class='row_index'>41,859,906</td><td>41859904</td><td>VTS</td><td>23</td><td>23</td><td>3</td><td>3.85</td><td>&minus;73.9813</td><td>40.753</td><td>&minus;73.9495</td><td>40.7795</td><td class=vellipsis>&hellip;</td><td>164</td><td>Manhattan</td><td>Yorkville West</td><td>263</td><td>Manhattan</td></tr>\n",
       "    <tr><td class='row_index'>41,859,907</td><td>41859905</td><td>CMT</td><td>14</td><td>15</td><td>1</td><td>17.3</td><td>0</td><td>0</td><td>0</td><td>0</td><td class=vellipsis>&hellip;</td><td><span class=na>NA</span></td><td></td><td></td><td><span class=na>NA</span></td><td></td></tr>\n",
       "  </tbody>\n",
       "  </table>\n",
       "  <div class='footer'>\n",
       "    <div class='frame_dimensions'>41,859,908 rows &times; 22 columns</div>\n",
       "  </div>\n",
       "</div>\n"
      ],
      "text/plain": [
       "<Frame#7fdbcef74690 41859908x22>"
      ]
     },
     "execution_count": 12,
     "metadata": {},
     "output_type": "execute_result"
    }
   ],
   "source": [
    "frame"
   ]
  },
  {
   "cell_type": "code",
   "execution_count": 13,
   "id": "67777563",
   "metadata": {},
   "outputs": [
    {
     "data": {
      "text/html": [
       "<div class='datatable'>\n",
       "  <table class='frame'>\n",
       "  <thead>\n",
       "    <tr class='colnames'><td class='row_index'></td><th>pick_up_Zone</th><th>count</th></tr>\n",
       "    <tr class='coltypes'><td class='row_index'></td><td class='str' title='str32'>&#x25AA;&#x25AA;&#x25AA;&#x25AA;</td><td class='int' title='int64'>&#x25AA;&#x25AA;&#x25AA;&#x25AA;&#x25AA;&#x25AA;&#x25AA;&#x25AA;</td></tr>\n",
       "  </thead>\n",
       "  <tbody>\n",
       "    <tr><td class='row_index'>0</td><td>Times Sq/Theatre District</td><td>1581229</td></tr>\n",
       "    <tr><td class='row_index'>1</td><td>Midtown Center</td><td>1558366</td></tr>\n",
       "    <tr><td class='row_index'>2</td><td>Upper East Side South</td><td>1546520</td></tr>\n",
       "    <tr><td class='row_index'>3</td><td>East Village</td><td>1503926</td></tr>\n",
       "    <tr><td class='row_index'>4</td><td>Upper East Side North</td><td>1424176</td></tr>\n",
       "    <tr><td class='row_index'>5</td><td>Midtown East</td><td>1401322</td></tr>\n",
       "    <tr><td class='row_index'>6</td><td>Murray Hill</td><td>1396157</td></tr>\n",
       "    <tr><td class='row_index'>7</td><td>Union Sq</td><td>1349435</td></tr>\n",
       "    <tr><td class='row_index'>8</td><td>Clinton East</td><td>1261417</td></tr>\n",
       "    <tr><td class='row_index'>9</td><td>Lincoln Square East</td><td>1240042</td></tr>\n",
       "    <tr><td class='row_index'>10</td><td>Penn Station/Madison Sq West</td><td>1208944</td></tr>\n",
       "    <tr><td class='row_index'>11</td><td>Gramercy</td><td>1188208</td></tr>\n",
       "    <tr><td class='row_index'>12</td><td>Midtown North</td><td>1121683</td></tr>\n",
       "    <tr><td class='row_index'>13</td><td>Lenox Hill West</td><td>1086647</td></tr>\n",
       "    <tr><td class='row_index'>14</td><td>Upper West Side South</td><td>1070746</td></tr>\n",
       "    <tr><td class='row_index'>&#x22EE;</td><td class='hellipsis'>&#x22EE;</td><td class='hellipsis'>&#x22EE;</td></tr>\n",
       "    <tr><td class='row_index'>256</td><td>City Island</td><td>31</td></tr>\n",
       "    <tr><td class='row_index'>257</td><td>Freshkills Park</td><td>24</td></tr>\n",
       "    <tr><td class='row_index'>258</td><td>Arden Heights</td><td>21</td></tr>\n",
       "    <tr><td class='row_index'>259</td><td>Rossville/Woodrow</td><td>20</td></tr>\n",
       "    <tr><td class='row_index'>260</td><td>Great Kills Park</td><td>12</td></tr>\n",
       "  </tbody>\n",
       "  </table>\n",
       "  <div class='footer'>\n",
       "    <div class='frame_dimensions'>261 rows &times; 2 columns</div>\n",
       "  </div>\n",
       "</div>\n"
      ],
      "text/plain": [
       "<Frame#7fdc72f8c450 261x2>"
      ]
     },
     "execution_count": 13,
     "metadata": {},
     "output_type": "execute_result"
    }
   ],
   "source": [
    "pick_up_count = frame[:,dt.count(), by('pick_up_Zone')].sort(-f.count)\n",
    "pick_up_count"
   ]
  },
  {
   "cell_type": "code",
   "execution_count": 14,
   "id": "254da618",
   "metadata": {},
   "outputs": [
    {
     "data": {
      "text/html": [
       "<div class='datatable'>\n",
       "  <table class='frame'>\n",
       "  <thead>\n",
       "    <tr class='colnames'><td class='row_index'></td><th>drop_off_Zone</th><th>count</th></tr>\n",
       "    <tr class='coltypes'><td class='row_index'></td><td class='str' title='str32'>&#x25AA;&#x25AA;&#x25AA;&#x25AA;</td><td class='int' title='int64'>&#x25AA;&#x25AA;&#x25AA;&#x25AA;&#x25AA;&#x25AA;&#x25AA;&#x25AA;</td></tr>\n",
       "  </thead>\n",
       "  <tbody>\n",
       "    <tr><td class='row_index'>0</td><td>Midtown Center</td><td>1673651</td></tr>\n",
       "    <tr><td class='row_index'>1</td><td>Upper East Side North</td><td>1446570</td></tr>\n",
       "    <tr><td class='row_index'>2</td><td>Times Sq/Theatre District</td><td>1438987</td></tr>\n",
       "    <tr><td class='row_index'>3</td><td>Upper East Side South</td><td>1402008</td></tr>\n",
       "    <tr><td class='row_index'>4</td><td>Murray Hill</td><td>1368418</td></tr>\n",
       "    <tr><td class='row_index'>5</td><td>Midtown East</td><td>1301625</td></tr>\n",
       "    <tr><td class='row_index'>6</td><td>Union Sq</td><td>1207092</td></tr>\n",
       "    <tr><td class='row_index'>7</td><td>East Village</td><td>1197367</td></tr>\n",
       "    <tr><td class='row_index'>8</td><td>Lincoln Square East</td><td>1127789</td></tr>\n",
       "    <tr><td class='row_index'>9</td><td>Penn Station/Madison Sq West</td><td>1106362</td></tr>\n",
       "    <tr><td class='row_index'>10</td><td>Clinton East</td><td>1053910</td></tr>\n",
       "    <tr><td class='row_index'>11</td><td>Lenox Hill West</td><td>1039576</td></tr>\n",
       "    <tr><td class='row_index'>12</td><td>Midtown North</td><td>1020890</td></tr>\n",
       "    <tr><td class='row_index'>13</td><td>Gramercy</td><td>1016040</td></tr>\n",
       "    <tr><td class='row_index'>14</td><td>Upper West Side South</td><td>999318</td></tr>\n",
       "    <tr><td class='row_index'>&#x22EE;</td><td class='hellipsis'>&#x22EE;</td><td class='hellipsis'>&#x22EE;</td></tr>\n",
       "    <tr><td class='row_index'>256</td><td>Broad Channel</td><td>184</td></tr>\n",
       "    <tr><td class='row_index'>257</td><td>Rossville/Woodrow</td><td>177</td></tr>\n",
       "    <tr><td class='row_index'>258</td><td>Charleston/Tottenville</td><td>162</td></tr>\n",
       "    <tr><td class='row_index'>259</td><td>Freshkills Park</td><td>45</td></tr>\n",
       "    <tr><td class='row_index'>260</td><td>Great Kills Park</td><td>13</td></tr>\n",
       "  </tbody>\n",
       "  </table>\n",
       "  <div class='footer'>\n",
       "    <div class='frame_dimensions'>261 rows &times; 2 columns</div>\n",
       "  </div>\n",
       "</div>\n"
      ],
      "text/plain": [
       "<Frame#7fdc72f8c060 261x2>"
      ]
     },
     "execution_count": 14,
     "metadata": {},
     "output_type": "execute_result"
    }
   ],
   "source": [
    "drop_off_count = frame[:,dt.count(), by('drop_off_Zone')].sort(-f.count)\n",
    "drop_off_count"
   ]
  },
  {
   "cell_type": "code",
   "execution_count": 15,
   "id": "3a8236e3",
   "metadata": {},
   "outputs": [
    {
     "data": {
      "text/html": [
       "<div class='datatable'>\n",
       "  <table class='frame'>\n",
       "  <thead>\n",
       "    <tr class='colnames'><td class='row_index'></td><th>pick_up_Zone</th><th>drop_off_Zone</th><th>count</th></tr>\n",
       "    <tr class='coltypes'><td class='row_index'></td><td class='str' title='str32'>&#x25AA;&#x25AA;&#x25AA;&#x25AA;</td><td class='str' title='str32'>&#x25AA;&#x25AA;&#x25AA;&#x25AA;</td><td class='int' title='int64'>&#x25AA;&#x25AA;&#x25AA;&#x25AA;&#x25AA;&#x25AA;&#x25AA;&#x25AA;</td></tr>\n",
       "  </thead>\n",
       "  <tbody>\n",
       "    <tr><td class='row_index'>0</td><td></td><td></td><td>757214</td></tr>\n",
       "    <tr><td class='row_index'>1</td><td>Upper East Side South</td><td>Upper East Side North</td><td>185650</td></tr>\n",
       "    <tr><td class='row_index'>2</td><td>Upper East Side North</td><td>Upper East Side North</td><td>172571</td></tr>\n",
       "    <tr><td class='row_index'>3</td><td>Upper East Side North</td><td>Upper East Side South</td><td>166715</td></tr>\n",
       "    <tr><td class='row_index'>4</td><td>Upper East Side South</td><td>Upper East Side South</td><td>157334</td></tr>\n",
       "    <tr><td class='row_index'>5</td><td>East Village</td><td>East Village</td><td>107938</td></tr>\n",
       "    <tr><td class='row_index'>6</td><td>Upper West Side South</td><td>Lincoln Square East</td><td>105543</td></tr>\n",
       "    <tr><td class='row_index'>7</td><td>Upper West Side South</td><td>Upper West Side North</td><td>101245</td></tr>\n",
       "    <tr><td class='row_index'>8</td><td>Upper East Side South</td><td>Midtown Center</td><td>97364</td></tr>\n",
       "    <tr><td class='row_index'>9</td><td>Lincoln Square East</td><td>Upper West Side South</td><td>96179</td></tr>\n",
       "    <tr><td class='row_index'>10</td><td>Times Sq/Theatre District</td><td>Penn Station/Madison Sq West</td><td>93419</td></tr>\n",
       "    <tr><td class='row_index'>11</td><td>Midtown Center</td><td>Midtown Center</td><td>91646</td></tr>\n",
       "    <tr><td class='row_index'>12</td><td>Upper East Side South</td><td>Midtown East</td><td>89441</td></tr>\n",
       "    <tr><td class='row_index'>13</td><td>Penn Station/Madison Sq West</td><td>Times Sq/Theatre District</td><td>86791</td></tr>\n",
       "    <tr><td class='row_index'>14</td><td>Midtown Center</td><td>Upper East Side South</td><td>86498</td></tr>\n",
       "    <tr><td class='row_index'>&#x22EE;</td><td class='hellipsis'>&#x22EE;</td><td class='hellipsis'>&#x22EE;</td><td class='hellipsis'>&#x22EE;</td></tr>\n",
       "    <tr><td class='row_index'>36,416</td><td>Yorkville West</td><td>New Dorp/Midland Beach</td><td>1</td></tr>\n",
       "    <tr><td class='row_index'>36,417</td><td>Yorkville West</td><td>Port Richmond</td><td>1</td></tr>\n",
       "    <tr><td class='row_index'>36,418</td><td>Yorkville West</td><td>Rosedale</td><td>1</td></tr>\n",
       "    <tr><td class='row_index'>36,419</td><td>Yorkville West</td><td>Starrett City</td><td>1</td></tr>\n",
       "    <tr><td class='row_index'>36,420</td><td>Yorkville West</td><td>Willets Point</td><td>1</td></tr>\n",
       "  </tbody>\n",
       "  </table>\n",
       "  <div class='footer'>\n",
       "    <div class='frame_dimensions'>36,421 rows &times; 3 columns</div>\n",
       "  </div>\n",
       "</div>\n"
      ],
      "text/plain": [
       "<Frame#7fdce99189c0 36421x3>"
      ]
     },
     "execution_count": 15,
     "metadata": {},
     "output_type": "execute_result"
    }
   ],
   "source": [
    "pd_count = frame[:, dt.count(), by('pick_up_Zone', 'drop_off_Zone')].sort(-f.count)\n",
    "pd_count"
   ]
  },
  {
   "cell_type": "code",
   "execution_count": 16,
   "id": "dc2657ba",
   "metadata": {},
   "outputs": [
    {
     "data": {
      "text/html": [
       "<div class='datatable'>\n",
       "  <table class='frame'>\n",
       "  <thead>\n",
       "    <tr class='colnames'><td class='row_index'></td><th>Trip_Pickup_DateTime</th><th>count</th></tr>\n",
       "    <tr class='coltypes'><td class='row_index'></td><td class='int' title='int32'>&#x25AA;&#x25AA;&#x25AA;&#x25AA;</td><td class='int' title='int64'>&#x25AA;&#x25AA;&#x25AA;&#x25AA;&#x25AA;&#x25AA;&#x25AA;&#x25AA;</td></tr>\n",
       "  </thead>\n",
       "  <tbody>\n",
       "    <tr><td class='row_index'>0</td><td>0</td><td>1621426</td></tr>\n",
       "    <tr><td class='row_index'>1</td><td>1</td><td>1191211</td></tr>\n",
       "    <tr><td class='row_index'>2</td><td>2</td><td>894354</td></tr>\n",
       "    <tr><td class='row_index'>3</td><td>3</td><td>674986</td></tr>\n",
       "    <tr><td class='row_index'>4</td><td>4</td><td>488542</td></tr>\n",
       "    <tr><td class='row_index'>5</td><td>5</td><td>379852</td></tr>\n",
       "    <tr><td class='row_index'>6</td><td>6</td><td>804853</td></tr>\n",
       "    <tr><td class='row_index'>7</td><td>7</td><td>1477144</td></tr>\n",
       "    <tr><td class='row_index'>8</td><td>8</td><td>1941097</td></tr>\n",
       "    <tr><td class='row_index'>9</td><td>9</td><td>1935823</td></tr>\n",
       "    <tr><td class='row_index'>10</td><td>10</td><td>1766191</td></tr>\n",
       "    <tr><td class='row_index'>11</td><td>11</td><td>1805969</td></tr>\n",
       "    <tr><td class='row_index'>12</td><td>12</td><td>1970728</td></tr>\n",
       "    <tr><td class='row_index'>13</td><td>13</td><td>1962398</td></tr>\n",
       "    <tr><td class='row_index'>14</td><td>14</td><td>2056558</td></tr>\n",
       "    <tr><td class='row_index'>15</td><td>15</td><td>2082539</td></tr>\n",
       "    <tr><td class='row_index'>16</td><td>16</td><td>1925263</td></tr>\n",
       "    <tr><td class='row_index'>17</td><td>17</td><td>2248838</td></tr>\n",
       "    <tr><td class='row_index'>18</td><td>18</td><td>2684532</td></tr>\n",
       "    <tr><td class='row_index'>19</td><td>19</td><td>2769506</td></tr>\n",
       "    <tr><td class='row_index'>20</td><td>20</td><td>2495618</td></tr>\n",
       "    <tr><td class='row_index'>21</td><td>21</td><td>2372926</td></tr>\n",
       "    <tr><td class='row_index'>22</td><td>22</td><td>2302364</td></tr>\n",
       "    <tr><td class='row_index'>23</td><td>23</td><td>2007190</td></tr>\n",
       "  </tbody>\n",
       "  </table>\n",
       "  <div class='footer'>\n",
       "    <div class='frame_dimensions'>24 rows &times; 2 columns</div>\n",
       "  </div>\n",
       "</div>\n"
      ],
      "text/plain": [
       "<Frame#7fdce9918720 24x2>"
      ]
     },
     "execution_count": 16,
     "metadata": {},
     "output_type": "execute_result"
    }
   ],
   "source": [
    "pick_time_count = frame[:, dt.count(), by('Trip_Pickup_DateTime')]\n",
    "pick_time_count"
   ]
  },
  {
   "cell_type": "code",
   "execution_count": 17,
   "id": "73d3aec8",
   "metadata": {},
   "outputs": [
    {
     "data": {
      "text/html": [
       "<div class='datatable'>\n",
       "  <table class='frame'>\n",
       "  <thead>\n",
       "    <tr class='colnames'><td class='row_index'></td><th>Trip_Dropoff_DateTime</th><th>count</th></tr>\n",
       "    <tr class='coltypes'><td class='row_index'></td><td class='int' title='int32'>&#x25AA;&#x25AA;&#x25AA;&#x25AA;</td><td class='int' title='int64'>&#x25AA;&#x25AA;&#x25AA;&#x25AA;&#x25AA;&#x25AA;&#x25AA;&#x25AA;</td></tr>\n",
       "  </thead>\n",
       "  <tbody>\n",
       "    <tr><td class='row_index'>0</td><td>0</td><td>1707622</td></tr>\n",
       "    <tr><td class='row_index'>1</td><td>1</td><td>1264955</td></tr>\n",
       "    <tr><td class='row_index'>2</td><td>2</td><td>942516</td></tr>\n",
       "    <tr><td class='row_index'>3</td><td>3</td><td>702340</td></tr>\n",
       "    <tr><td class='row_index'>4</td><td>4</td><td>535283</td></tr>\n",
       "    <tr><td class='row_index'>5</td><td>5</td><td>373470</td></tr>\n",
       "    <tr><td class='row_index'>6</td><td>6</td><td>714493</td></tr>\n",
       "    <tr><td class='row_index'>7</td><td>7</td><td>1342909</td></tr>\n",
       "    <tr><td class='row_index'>8</td><td>8</td><td>1850614</td></tr>\n",
       "    <tr><td class='row_index'>9</td><td>9</td><td>1968149</td></tr>\n",
       "    <tr><td class='row_index'>10</td><td>10</td><td>1796073</td></tr>\n",
       "    <tr><td class='row_index'>11</td><td>11</td><td>1773488</td></tr>\n",
       "    <tr><td class='row_index'>12</td><td>12</td><td>1965702</td></tr>\n",
       "    <tr><td class='row_index'>13</td><td>13</td><td>1952070</td></tr>\n",
       "    <tr><td class='row_index'>14</td><td>14</td><td>2018194</td></tr>\n",
       "    <tr><td class='row_index'>15</td><td>15</td><td>2096294</td></tr>\n",
       "    <tr><td class='row_index'>16</td><td>16</td><td>1963546</td></tr>\n",
       "    <tr><td class='row_index'>17</td><td>17</td><td>2132329</td></tr>\n",
       "    <tr><td class='row_index'>18</td><td>18</td><td>2641682</td></tr>\n",
       "    <tr><td class='row_index'>19</td><td>19</td><td>2807008</td></tr>\n",
       "    <tr><td class='row_index'>20</td><td>20</td><td>2553827</td></tr>\n",
       "    <tr><td class='row_index'>21</td><td>21</td><td>2380915</td></tr>\n",
       "    <tr><td class='row_index'>22</td><td>22</td><td>2318448</td></tr>\n",
       "    <tr><td class='row_index'>23</td><td>23</td><td>2057981</td></tr>\n",
       "  </tbody>\n",
       "  </table>\n",
       "  <div class='footer'>\n",
       "    <div class='frame_dimensions'>24 rows &times; 2 columns</div>\n",
       "  </div>\n",
       "</div>\n"
      ],
      "text/plain": [
       "<Frame#7fdc72f8c720 24x2>"
      ]
     },
     "execution_count": 17,
     "metadata": {},
     "output_type": "execute_result"
    }
   ],
   "source": [
    "drop_time_count = frame[:, dt.count(), by('Trip_Dropoff_DateTime')]\n",
    "drop_time_count"
   ]
  },
  {
   "cell_type": "code",
   "execution_count": null,
   "id": "020c330b",
   "metadata": {},
   "outputs": [],
   "source": []
  }
 ],
 "metadata": {
  "kernelspec": {
   "display_name": "Python 3 (ipykernel)",
   "language": "python",
   "name": "python3"
  },
  "language_info": {
   "codemirror_mode": {
    "name": "ipython",
    "version": 3
   },
   "file_extension": ".py",
   "mimetype": "text/x-python",
   "name": "python",
   "nbconvert_exporter": "python",
   "pygments_lexer": "ipython3",
   "version": "3.8.12"
  }
 },
 "nbformat": 4,
 "nbformat_minor": 5
}
